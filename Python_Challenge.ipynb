{
 "cells": [
  {
   "cell_type": "markdown",
   "metadata": {},
   "source": [
    "# Python Challenge\n",
    "\n",
    "![Image of Python](https://coderbyte.com/images/homepage_icons/academy/course_py.png)"
   ]
  },
  {
   "cell_type": "markdown",
   "metadata": {},
   "source": [
    "# BEGINNER"
   ]
  },
  {
   "cell_type": "markdown",
   "metadata": {},
   "source": [
    "# 1. Characters Input\n",
    "\n",
    "## Create a program that asks the user to enter their name and their age. Print out a message addressed to them that tells them the year that they will turn 100 years old in (100 - year old).\n",
    "\n",
    "Extras:\n",
    "\n",
    "Add on to the previous program by asking the user for **another number** and **printing out that many copies of the previous message.**\n",
    "Print out that many copies of the previous message on separate lines. \n",
    "\n",
    "This is reference from [practicepython.](http://www.practicepython.org/exercise/2014/01/29/01-character-input.html)"
   ]
  },
  {
   "cell_type": "code",
   "execution_count": 3,
   "metadata": {
    "collapsed": true
   },
   "outputs": [],
   "source": [
    "def hundred():\n",
    "    a = raw_input('what is your name?')\n",
    "    b = float(raw_input('what is your age?'))\n",
    "    c = float(raw_input('how many prints?'))\n",
    "    d = 100 - b\n",
    "    while c > 0:\n",
    "        print 'You will turn 100 in ' + str(d) + ' years.'\n",
    "        c -= 1"
   ]
  },
  {
   "cell_type": "code",
   "execution_count": 4,
   "metadata": {},
   "outputs": [
    {
     "name": "stdout",
     "output_type": "stream",
     "text": [
      "what is your name?shaun\n",
      "what is your age?92\n",
      "how many prints?2\n",
      "You will turn 100 in 8.0 years.\n",
      "You will turn 100 in 8.0 years.\n"
     ]
    }
   ],
   "source": [
    "hundred()"
   ]
  },
  {
   "cell_type": "code",
   "execution_count": null,
   "metadata": {
    "collapsed": true
   },
   "outputs": [],
   "source": []
  }
 ],
 "metadata": {
  "kernelspec": {
   "display_name": "Python 2",
   "language": "python",
   "name": "python2"
  },
  "language_info": {
   "codemirror_mode": {
    "name": "ipython",
    "version": 2
   },
   "file_extension": ".py",
   "mimetype": "text/x-python",
   "name": "python",
   "nbconvert_exporter": "python",
   "pygments_lexer": "ipython2",
   "version": "2.7.13"
  }
 },
 "nbformat": 4,
 "nbformat_minor": 2
}
