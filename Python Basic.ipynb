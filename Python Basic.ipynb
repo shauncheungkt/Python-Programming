{
 "cells": [
  {
   "cell_type": "markdown",
   "metadata": {},
   "source": [
    "# Python Basic\n",
    "\n",
    "![Image of Python](https://coderbyte.com/images/homepage_icons/academy/course_py.png)"
   ]
  },
  {
   "cell_type": "markdown",
   "metadata": {},
   "source": [
    "# Table of Content\n",
    "\n",
    "\n",
    "- ### [Characters Input](#Characters Input)\n",
    "- ### [Markdown](#Markdown)"
   ]
  },
  {
   "cell_type": "markdown",
   "metadata": {},
   "source": [
    "<a id='Characters Input'></a>\n",
    "# 1. Characters Input\n",
    "\n",
    "## Create a program that asks the user to enter their name and their age. Print out a message addressed to them that tells them the year that they will turn 100 years old in (100 - year old).\n",
    "\n",
    "Extras:\n",
    "\n",
    "Add on to the previous program by asking the user for **another number** and **printing out that many copies of the previous message.**\n",
    "Print out that many copies of the previous message on separate lines. \n",
    "\n",
    "This is reference from [practicepython.](http://www.practicepython.org/exercise/2014/01/29/01-character-input.html)"
   ]
  },
  {
   "cell_type": "code",
   "execution_count": 2,
   "metadata": {
    "collapsed": true
   },
   "outputs": [],
   "source": [
    "def hundred():\n",
    "    a = raw_input('what is your name?')\n",
    "    b = float(raw_input('what is your age?'))\n",
    "    c = float(raw_input('how many prints?'))\n",
    "    d = 100 - b\n",
    "    while c > 0:\n",
    "        print 'You will turn 100 in ' + str(d) + ' years.'\n",
    "        c -= 1"
   ]
  },
  {
   "cell_type": "code",
   "execution_count": 3,
   "metadata": {},
   "outputs": [
    {
     "name": "stdout",
     "output_type": "stream",
     "text": [
      "what is your name?shaun\n",
      "what is your age?90\n",
      "how many prints?2\n",
      "You will turn 100 in 10.0 years.\n",
      "You will turn 100 in 10.0 years.\n"
     ]
    }
   ],
   "source": [
    "hundred()"
   ]
  },
  {
   "cell_type": "markdown",
   "metadata": {},
   "source": [
    "<a id='Markdown'></a>\n",
    "# 2. Markdown is basically plain text.\n",
    "\n",
    "Except you can **format** things differently\n",
    "\n",
    "# This is a Header 1\n",
    "\n",
    "Here's some text, including _italics_\n",
    "\n",
    "## This is a Header 2\n",
    "\n",
    "Here's some other text, with **more bold**\n"
   ]
  },
  {
   "cell_type": "code",
   "execution_count": 4,
   "metadata": {},
   "outputs": [
    {
     "name": "stdout",
     "output_type": "stream",
     "text": [
      "hello world\n"
     ]
    }
   ],
   "source": [
    "x = 'hello world'\n",
    "\n",
    "print x"
   ]
  },
  {
   "cell_type": "code",
   "execution_count": 6,
   "metadata": {},
   "outputs": [
    {
     "data": {
      "text/plain": [
       "['In',\n",
       " 'Out',\n",
       " '_',\n",
       " '_5',\n",
       " '__',\n",
       " '___',\n",
       " '__builtin__',\n",
       " '__builtins__',\n",
       " '__doc__',\n",
       " '__name__',\n",
       " '_dh',\n",
       " '_i',\n",
       " '_i1',\n",
       " '_i2',\n",
       " '_i3',\n",
       " '_i4',\n",
       " '_i5',\n",
       " '_i6',\n",
       " '_ih',\n",
       " '_ii',\n",
       " '_iii',\n",
       " '_oh',\n",
       " '_sh',\n",
       " 'exit',\n",
       " 'get_ipython',\n",
       " 'hundred',\n",
       " 'quit',\n",
       " 'x']"
      ]
     },
     "execution_count": 6,
     "metadata": {},
     "output_type": "execute_result"
    }
   ],
   "source": [
    "dir()"
   ]
  },
  {
   "cell_type": "code",
   "execution_count": null,
   "metadata": {
    "collapsed": true
   },
   "outputs": [],
   "source": []
  }
 ],
 "metadata": {
  "kernelspec": {
   "name": "python3",
   "display_name": "Python 3.9.1 64-bit",
   "metadata": {
    "interpreter": {
     "hash": "9bf9a5a3b461c4441d5f74d5f12baaa0e8bab4bee0e8d0b6242e440b1aedf666"
    }
   }
  },
  "language_info": {
   "codemirror_mode": {
    "name": "ipython",
    "version": 2
   },
   "file_extension": ".py",
   "mimetype": "text/x-python",
   "name": "python",
   "nbconvert_exporter": "python",
   "pygments_lexer": "ipython2",
   "version": "3.9.1-final"
  }
 },
 "nbformat": 4,
 "nbformat_minor": 2
}